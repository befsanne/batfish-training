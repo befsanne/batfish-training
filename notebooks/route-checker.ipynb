{
 "cells": [
  {
   "cell_type": "markdown",
   "metadata": {},
   "source": [
    "# Route Checker"
   ]
  },
  {
   "cell_type": "markdown",
   "metadata": {},
   "source": [
    "## 1. Batfishコンテナの起動\n",
    "\n",
    "Batfishコンテナが起動しているか確認し、起動していない場合は起動する。"
   ]
  },
  {
   "cell_type": "code",
   "execution_count": 2,
   "metadata": {},
   "outputs": [
    {
     "name": "stdout",
     "output_type": "stream",
     "text": [
      "Batfish container is already running.\n"
     ]
    }
   ],
   "source": [
    "%%bash\n",
    "if (docker ps -f \"ancestor=batfish/batfish\" | grep \"0.0.0.0:9996-9997\" > /dev/null); then\n",
    "  echo \"Batfish container is already running.\"\n",
    "else\n",
    "  docker run -d -p 9997:9997 -p 9996:9996 batfish/batfish\n",
    "fi"
   ]
  },
  {
   "cell_type": "markdown",
   "metadata": {},
   "source": [
    "## 2. startup.pyの実行\n",
    "\n",
    "startup.pyを実行し、ライブラリのインポートなどを行う。"
   ]
  },
  {
   "cell_type": "code",
   "execution_count": 3,
   "metadata": {},
   "outputs": [
    {
     "name": "stderr",
     "output_type": "stream",
     "text": [
      "/home/shino/.pyenv/versions/3.6.5/lib/python3.6/site-packages/pybatfish/client/commands.py:50: UserWarning: Pybatfish public API is being updated, note that API names and parameters will soon change.\n",
      "  \"Pybatfish public API is being updated, note that API names and parameters will soon change.\")\n"
     ]
    }
   ],
   "source": [
    "%run startup.py"
   ]
  },
  {
   "cell_type": "markdown",
   "metadata": {},
   "source": [
    "## 3. 通信の設定\n",
    "\n",
    "以下のセル内の各変数に検証したい通信の情報を格納し、実行する。\n",
    "HeaderConstraintsのその他の引数は以下を参照。\n",
    "[https://github.com/batfish/pybatfish/blob/master/pybatfish/datamodel/flow.py#L647-L669](htps://github.com/batfish/pybatfish/blob/master/pybatfish/datamodel/flow.py#L647-L669)"
   ]
  },
  {
   "cell_type": "code",
   "execution_count": 4,
   "metadata": {},
   "outputs": [],
   "source": [
    "# 送信元IPアドレス\n",
    "src_ip = \"192.168.10.1\"\n",
    "# 宛先IPアドレス\n",
    "dst_ip = \"192.168.20.1\"\n",
    "# アプリケーション\n",
    "app = \"http\"\n",
    "flow = HeaderConstraints(srcIps=src_ip,\n",
    "                         dstIps=dst_ip,\n",
    "                         applications=[app])"
   ]
  },
  {
   "cell_type": "markdown",
   "metadata": {},
   "source": [
    "## 4 ホストの設定\n",
    "\n",
    "以下のセル内のJSONに送信元および宛先のホスト情報を指定し、実行する。"
   ]
  },
  {
   "cell_type": "code",
   "execution_count": 5,
   "metadata": {},
   "outputs": [],
   "source": [
    "import json\n",
    "\n",
    "host_file_dir = \"networks/example2/hosts/\"\n",
    "src_host_dict = {\n",
    "                 \"hostname\": \"src_host\",\n",
    "                 \"hostInterfaces\": {\n",
    "                   \"eth0\": {\n",
    "                     \"name\": \"eth0\",\n",
    "                     \"prefix\": str(src_ip + \"/24\"),\n",
    "                     }\n",
    "                   }\n",
    "                 }\n",
    "\n",
    "dst_host_dict = {\n",
    "                 \"hostname\": \"dst_host\",\n",
    "                 \"hostInterfaces\": {\n",
    "                   \"eth0\": {\n",
    "                     \"name\": \"eth0\",\n",
    "                     \"prefix\": str(dst_ip + \"/24\"),\n",
    "                     }\n",
    "                   }\n",
    "                 }\n",
    "\n",
    "f = open(\"{dir}src_host.json\".format(dir=host_file_dir), \"w\")\n",
    "f.write(json.dumps(src_host_dict))\n",
    "f.close()\n",
    "\n",
    "f = open(\"{dir}dst_host.json\".format(dir=host_file_dir), \"w\")\n",
    "f.write(json.dumps(dst_host_dict))\n",
    "f.close()"
   ]
  },
  {
   "cell_type": "markdown",
   "metadata": {},
   "source": [
    "## 3. 設定ファイルのアップロード\n",
    "\n",
    "設定ファイルをBatfishコンテナへアップロードする(スナップショット名の後にいくつかのログが表示される)。"
   ]
  },
  {
   "cell_type": "code",
   "execution_count": 6,
   "metadata": {
    "scrolled": true
   },
   "outputs": [
    {
     "data": {
      "text/plain": [
       "'current'"
      ]
     },
     "execution_count": 6,
     "metadata": {},
     "output_type": "execute_result"
    }
   ],
   "source": [
    "# ネットワークの名前を指定する\n",
    "NETWORK_NAME = \"datacenter1\"\n",
    "# ネットワークの状態の名前を指定する(current, candidateなど)\n",
    "SNAPSHOT_NAME = \"current\"\n",
    "# 設定ファイルの格納先を指定する\n",
    "SNAPSHOT_PATH = \"networks/example2\"\n",
    "\n",
    "bf_set_network(NETWORK_NAME)\n",
    "bf_init_snapshot(SNAPSHOT_PATH, name=SNAPSHOT_NAME, overwrite=True)"
   ]
  },
  {
   "cell_type": "markdown",
   "metadata": {},
   "source": [
    "## 5. 通信の検証\n",
    "\n",
    "以下のセルを実行し、結果を確認する。"
   ]
  },
  {
   "cell_type": "code",
   "execution_count": 7,
   "metadata": {},
   "outputs": [
    {
     "data": {
      "text/html": [
       "<style  type=\"text/css\" >\n",
       "    #T_a8e4444e_dc96_11e8_ab13_48452060fbd0row0_col0 {\n",
       "            text-align:  left;\n",
       "            vertical-align:  top;\n",
       "        }    #T_a8e4444e_dc96_11e8_ab13_48452060fbd0row0_col1 {\n",
       "            text-align:  left;\n",
       "            vertical-align:  top;\n",
       "        }    #T_a8e4444e_dc96_11e8_ab13_48452060fbd0row0_col2 {\n",
       "            text-align:  left;\n",
       "            vertical-align:  top;\n",
       "        }</style>  \n",
       "<table id=\"T_a8e4444e_dc96_11e8_ab13_48452060fbd0\" > \n",
       "<thead>    <tr> \n",
       "        <th class=\"blank level0\" ></th> \n",
       "        <th class=\"col_heading level0 col0\" >Flow</th> \n",
       "        <th class=\"col_heading level0 col1\" >Traces</th> \n",
       "        <th class=\"col_heading level0 col2\" >TraceCount</th> \n",
       "    </tr></thead> \n",
       "<tbody>    <tr> \n",
       "        <th id=\"T_a8e4444e_dc96_11e8_ab13_48452060fbd0level0_row0\" class=\"row_heading level0 row0\" >0</th> \n",
       "        <td id=\"T_a8e4444e_dc96_11e8_ab13_48452060fbd0row0_col0\" class=\"data row0 col0\" >192.168.10.1:49152 &rarr; 192.168.20.1:80<br>start=src_host</td> \n",
       "        <td id=\"T_a8e4444e_dc96_11e8_ab13_48452060fbd0row0_col1\" class=\"data row0 col1\" ><span style=\"color:#019612; text-weight:bold;\">ACCEPTED</span><br><strong>1</strong>. node: src_host<br>steps: FORWARDED(Routes: static [Network: 0.0.0.0/0, Next Hop IP:AUTO/NONE(-1l)]) &rarr; TRANSMITTED(eth0)<br><strong>2</strong>. node: core<br>steps: RECEIVED(GigabitEthernet1/0: seg10in) &rarr; FORWARDED(Routes: connected [Network: 192.168.20.0/24, Next Hop IP:AUTO/NONE(-1l)]) &rarr; TRANSMITTED(GigabitEthernet2/0)<br><strong>3</strong>. node: dst_host<br>steps: RECEIVED(eth0) &rarr; ACCEPTED(InboundStep)</td> \n",
       "        <td id=\"T_a8e4444e_dc96_11e8_ab13_48452060fbd0row0_col2\" class=\"data row0 col2\" >1</td> \n",
       "    </tr></tbody> \n",
       "</table> "
      ],
      "text/plain": [
       "<pandas.io.formats.style.Styler at 0x7f1f5381b0b8>"
      ]
     },
     "metadata": {},
     "output_type": "display_data"
    }
   ],
   "source": [
    "traceroute_ans = bfq.traceroute(\n",
    "                                headers=flow,\n",
    "                                startLocation=\"src_host\"\n",
    "                                #startLocation=\"enter(core[GigabitEthernet1/0])\"\n",
    "                               ).answer()\n",
    "display_html(traceroute_ans.frame())"
   ]
  },
  {
   "cell_type": "markdown",
   "metadata": {},
   "source": [
    "## Tips"
   ]
  },
  {
   "cell_type": "code",
   "execution_count": 9,
   "metadata": {},
   "outputs": [
    {
     "name": "stdout",
     "output_type": "stream",
     "text": [
      "{\n",
      "  \"class\": \"org.batfish.question.traceroute.TracerouteQuestion\",\n",
      "  \"differential\": false,\n",
      "  \"headers\": \"${headers}\",\n",
      "  \"ignoreAcls\": \"${ignoreAcls}\",\n",
      "  \"instance\": {\n",
      "    \"description\": \"Trace the path(s) for the specified flow.\",\n",
      "    \"instanceName\": \"traceroute_2c858df0-db2b-4597-8d45-ba4424564e27\",\n",
      "    \"longDescription\": \"This question performs a virtual traceroute in the network from a starting node. A destination IP and ingress (source) node must be specified. Other IP headers are given default values if unspecified.\\nUnlike a real traceroute, this traceroute is directional. That is, for it to succeed, the reverse connectivity is not needed. This feature can help debug connectivity issues by decoupling the two directions.\",\n",
      "    \"tags\": [\n",
      "      \"dataPlane\",\n",
      "      \"reachability\",\n",
      "      \"traceroute\"\n",
      "    ],\n",
      "    \"variables\": {\n",
      "      \"headers\": {\n",
      "        \"description\": \"Packet header constraints.\",\n",
      "        \"optional\": true,\n",
      "        \"type\": \"headerConstraint\",\n",
      "        \"value\": {\n",
      "          \"applications\": [\n",
      "            \"http\"\n",
      "          ],\n",
      "          \"dscps\": null,\n",
      "          \"dstIps\": \"192.168.20.1\",\n",
      "          \"dstPorts\": null,\n",
      "          \"ecns\": null,\n",
      "          \"flowStates\": null,\n",
      "          \"fragmentOffsets\": null,\n",
      "          \"icmpCodes\": null,\n",
      "          \"icmpTypes\": null,\n",
      "          \"ipProtocols\": null,\n",
      "          \"packetLengths\": null,\n",
      "          \"srcIps\": \"192.168.10.1\",\n",
      "          \"srcPorts\": null,\n",
      "          \"tcpFlags\": null\n",
      "        }\n",
      "      },\n",
      "      \"ignoreAcls\": {\n",
      "        \"description\": \"If set to True, ACLs encountered along the path are ignored.\",\n",
      "        \"optional\": true,\n",
      "        \"type\": \"boolean\"\n",
      "      },\n",
      "      \"maxTraces\": {\n",
      "        \"description\": \"Limit the number of traces returned.\",\n",
      "        \"optional\": true,\n",
      "        \"type\": \"integer\"\n",
      "      },\n",
      "      \"startLocation\": {\n",
      "        \"description\": \"Location (node and interface combination) to start tracing from.\",\n",
      "        \"minLength\": 1,\n",
      "        \"type\": \"string\",\n",
      "        \"value\": \"src_host\"\n",
      "      }\n",
      "    }\n",
      "  },\n",
      "  \"maxTraces\": \"${maxTraces}\",\n",
      "  \"startLocation\": \"${startLocation}\"\n",
      "}\n"
     ]
    }
   ],
   "source": [
    "traceroute_ans = bfq.traceroute(\n",
    "                                headers=flow,\n",
    "                                startLocation=\"src_host\"\n",
    "                                #startLocation=\"enter(core[GigabitEthernet1/0])\"\n",
    "                               ).json()\n",
    "print(traceroute_ans)"
   ]
  }
 ],
 "metadata": {
  "kernelspec": {
   "display_name": "Python 3",
   "language": "python",
   "name": "python3"
  },
  "language_info": {
   "codemirror_mode": {
    "name": "ipython",
    "version": 3
   },
   "file_extension": ".py",
   "mimetype": "text/x-python",
   "name": "python",
   "nbconvert_exporter": "python",
   "pygments_lexer": "ipython3",
   "version": "3.6.5"
  }
 },
 "nbformat": 4,
 "nbformat_minor": 2
}
