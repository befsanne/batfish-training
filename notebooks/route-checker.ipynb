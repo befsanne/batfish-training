{
 "cells": [
  {
   "cell_type": "markdown",
   "metadata": {},
   "source": [
    "# Route Checker"
   ]
  },
  {
   "cell_type": "markdown",
   "metadata": {},
   "source": [
    "## 1. Batfishコンテナの起動\n",
    "\n",
    "Batfishコンテナが起動しているか確認し、起動していない場合は起動する。"
   ]
  },
  {
   "cell_type": "code",
   "execution_count": 1,
   "metadata": {},
   "outputs": [
    {
     "name": "stdout",
     "output_type": "stream",
     "text": [
      "bfcfcba996746b9171a81b681f7e4d8098b96e2e83a9b64a709392fbcf684d6d\n"
     ]
    }
   ],
   "source": [
    "%%bash\n",
    "if (docker ps -f \"ancestor=batfish/batfish\" | grep \"0.0.0.0:9996-9997\" > /dev/null); then\n",
    "  echo \"Batfish container is already running.\"\n",
    "else\n",
    "  docker run -d -p 9997:9997 -p 9996:9996 batfish/batfish\n",
    "fi"
   ]
  },
  {
   "cell_type": "markdown",
   "metadata": {},
   "source": [
    "## 2. startup.pyの実行\n",
    "\n",
    "startup.pyを実行し、ライブラリのインポートなどを行う。"
   ]
  },
  {
   "cell_type": "code",
   "execution_count": 4,
   "metadata": {
    "scrolled": true
   },
   "outputs": [],
   "source": [
    "%run startup.py"
   ]
  },
  {
   "cell_type": "markdown",
   "metadata": {},
   "source": [
    "## 3. 通信の設定\n",
    "\n",
    "以下のセル内の各変数に検証したい通信の情報を格納し、実行する。\n",
    "HeaderConstraintsのその他の引数は以下を参照。\n",
    "[https://github.com/batfish/pybatfish/blob/master/pybatfish/datamodel/flow.py#L647-L669](htps://github.com/batfish/pybatfish/blob/master/pybatfish/datamodel/flow.py#L647-L669)"
   ]
  },
  {
   "cell_type": "code",
   "execution_count": 5,
   "metadata": {},
   "outputs": [],
   "source": [
    "# 送信元IPアドレス\n",
    "src_ip = \"192.168.10.1\"\n",
    "# 宛先IPアドレス\n",
    "dst_ip = \"192.168.20.1\"\n",
    "# トランスポートプロトコル\n",
    "ip_protocol = \"TCP\"\n",
    "# 送信元ポート番号\n",
    "src_port =\"49512\"\n",
    "# 宛先ポート番号\n",
    "dst_port = \"80\"\n",
    "\n",
    "outbound_flow = HeaderConstraints(srcIps=src_ip,\n",
    "                         dstIps=dst_ip,\n",
    "                         ipProtocols=ip_protocol,\n",
    "                         srcPorts=src_port,\n",
    "                         dstPorts=dst_port,\n",
    "                        )\n",
    "return_flow = HeaderConstraints(srcIps=dst_ip,\n",
    "                         dstIps=src_ip,\n",
    "                         ipProtocols=ip_protocol,\n",
    "                         srcPorts=dst_port,\n",
    "                         dstPorts=src_port,\n",
    "                         tcpFlags=[MatchTcpFlags.match_ack()]\n",
    "                         )"
   ]
  },
  {
   "cell_type": "markdown",
   "metadata": {},
   "source": [
    "## 4 ホストの設定\n",
    "\n",
    "以下のセル内のJSONに送信元および宛先のホスト情報を指定し、実行する。"
   ]
  },
  {
   "cell_type": "code",
   "execution_count": 6,
   "metadata": {},
   "outputs": [],
   "source": [
    "import json\n",
    "\n",
    "host_file_dir = \"networks/example2/hosts/\"\n",
    "src_host_dict = {\n",
    "                 \"hostname\": \"src_host\",\n",
    "                 \"hostInterfaces\": {\n",
    "                   \"eth0\": {\n",
    "                     \"name\": \"eth0\",\n",
    "                     \"prefix\": str(src_ip + \"/24\"),\n",
    "                     }\n",
    "                   }\n",
    "                 }\n",
    "\n",
    "dst_host_dict = {\n",
    "                 \"hostname\": \"dst_host\",\n",
    "                 \"hostInterfaces\": {\n",
    "                   \"eth0\": {\n",
    "                     \"name\": \"eth0\",\n",
    "                     \"prefix\": str(dst_ip + \"/24\"),\n",
    "                     }\n",
    "                   }\n",
    "                 }\n",
    "\n",
    "f = open(\"{dir}src_host.json\".format(dir=host_file_dir), \"w\")\n",
    "f.write(json.dumps(src_host_dict))\n",
    "f.close()\n",
    "\n",
    "f = open(\"{dir}dst_host.json\".format(dir=host_file_dir), \"w\")\n",
    "f.write(json.dumps(dst_host_dict))\n",
    "f.close()"
   ]
  },
  {
   "cell_type": "markdown",
   "metadata": {},
   "source": [
    "## 3. 設定ファイルのアップロード\n",
    "\n",
    "設定ファイルをBatfishコンテナへアップロードする(スナップショット名の後にいくつかのログが表示される)。"
   ]
  },
  {
   "cell_type": "code",
   "execution_count": 23,
   "metadata": {
    "scrolled": true
   },
   "outputs": [
    {
     "data": {
      "text/plain": [
       "'current'"
      ]
     },
     "execution_count": 23,
     "metadata": {},
     "output_type": "execute_result"
    }
   ],
   "source": [
    "# ネットワークの名前を指定する\n",
    "NETWORK_NAME = \"datacenter1\"\n",
    "# ネットワークの状態の名前を指定する(current, candidateなど)\n",
    "SNAPSHOT_NAME = \"current\"\n",
    "# 設定ファイルの格納先を指定する\n",
    "SNAPSHOT_PATH = \"networks/example-route-checker\"\n",
    "\n",
    "bf_set_network(NETWORK_NAME)\n",
    "bf_init_snapshot(SNAPSHOT_PATH, name=SNAPSHOT_NAME, overwrite=True)"
   ]
  },
  {
   "cell_type": "markdown",
   "metadata": {},
   "source": [
    "## 5. 通信の検証\n",
    "\n",
    "以下のセルを実行し、結果を確認する。"
   ]
  },
  {
   "cell_type": "code",
   "execution_count": 19,
   "metadata": {},
   "outputs": [
    {
     "data": {
      "text/html": [
       "<style  type=\"text/css\" >\n",
       "    #T_c0435e4a_ee48_11e8_bad7_48452060fbd0row0_col0 {\n",
       "            text-align:  left;\n",
       "            vertical-align:  top;\n",
       "        }    #T_c0435e4a_ee48_11e8_bad7_48452060fbd0row0_col1 {\n",
       "            text-align:  left;\n",
       "            vertical-align:  top;\n",
       "        }    #T_c0435e4a_ee48_11e8_bad7_48452060fbd0row0_col2 {\n",
       "            text-align:  left;\n",
       "            vertical-align:  top;\n",
       "        }</style>  \n",
       "<table id=\"T_c0435e4a_ee48_11e8_bad7_48452060fbd0\" > \n",
       "<thead>    <tr> \n",
       "        <th class=\"blank level0\" ></th> \n",
       "        <th class=\"col_heading level0 col0\" >Flow</th> \n",
       "        <th class=\"col_heading level0 col1\" >Traces</th> \n",
       "        <th class=\"col_heading level0 col2\" >TraceCount</th> \n",
       "    </tr></thead> \n",
       "<tbody>    <tr> \n",
       "        <th id=\"T_c0435e4a_ee48_11e8_bad7_48452060fbd0level0_row0\" class=\"row_heading level0 row0\" >0</th> \n",
       "        <td id=\"T_c0435e4a_ee48_11e8_bad7_48452060fbd0row0_col0\" class=\"data row0 col0\" >Start Location: src_host<br>Src IP: 192.168.10.1<br>Src Port: 49512<br>Dst IP: 192.168.20.1<br>Dst Port: 80<br>IP Protocol: TCP</td> \n",
       "        <td id=\"T_c0435e4a_ee48_11e8_bad7_48452060fbd0row0_col1\" class=\"data row0 col1\" ><span style=\"color:#019612; text-weight:bold;\">ACCEPTED</span><br><strong>1</strong>. node: src_host<br>&nbsp;&nbsp;ORIGINATED(default)<br>&nbsp;&nbsp;FORWARDED(Routes: static [Network: 0.0.0.0/0, Next Hop IP:AUTO/NONE(-1l)])<br>&nbsp;&nbsp;TRANSMITTED(eth0)<br><strong>2</strong>. node: core<br>&nbsp;&nbsp;RECEIVED(GigabitEthernet1/0: seg10in)<br>&nbsp;&nbsp;FORWARDED(Routes: connected [Network: 192.168.20.0/24, Next Hop IP:AUTO/NONE(-1l)])<br>&nbsp;&nbsp;TRANSMITTED(GigabitEthernet2/0)<br><strong>3</strong>. node: dst_host<br>&nbsp;&nbsp;RECEIVED(eth0)<br>&nbsp;&nbsp;ACCEPTED(InboundStep)</td> \n",
       "        <td id=\"T_c0435e4a_ee48_11e8_bad7_48452060fbd0row0_col2\" class=\"data row0 col2\" >1</td> \n",
       "    </tr></tbody> \n",
       "</table> "
      ],
      "text/plain": [
       "<pandas.io.formats.style.Styler at 0x7fef21b3dd30>"
      ]
     },
     "metadata": {},
     "output_type": "display_data"
    }
   ],
   "source": [
    "# 往路\n",
    "traceroute_ob_ans = bfq.traceroute(\n",
    "                                headers=outbound_flow,\n",
    "                                startLocation=\"src_host\",\n",
    "                                #startLocation=\"enter(core[GigabitEthernet1/0])\"\n",
    "                               ).answer()\n",
    "display_html(traceroute_ob_ans.frame())"
   ]
  },
  {
   "cell_type": "code",
   "execution_count": 24,
   "metadata": {},
   "outputs": [
    {
     "data": {
      "text/html": [
       "<style  type=\"text/css\" >\n",
       "    #T_d8aca6ee_ee48_11e8_bad7_48452060fbd0row0_col0 {\n",
       "            text-align:  left;\n",
       "            vertical-align:  top;\n",
       "        }    #T_d8aca6ee_ee48_11e8_bad7_48452060fbd0row0_col1 {\n",
       "            text-align:  left;\n",
       "            vertical-align:  top;\n",
       "        }    #T_d8aca6ee_ee48_11e8_bad7_48452060fbd0row0_col2 {\n",
       "            text-align:  left;\n",
       "            vertical-align:  top;\n",
       "        }</style>  \n",
       "<table id=\"T_d8aca6ee_ee48_11e8_bad7_48452060fbd0\" > \n",
       "<thead>    <tr> \n",
       "        <th class=\"blank level0\" ></th> \n",
       "        <th class=\"col_heading level0 col0\" >Flow</th> \n",
       "        <th class=\"col_heading level0 col1\" >Traces</th> \n",
       "        <th class=\"col_heading level0 col2\" >TraceCount</th> \n",
       "    </tr></thead> \n",
       "<tbody>    <tr> \n",
       "        <th id=\"T_d8aca6ee_ee48_11e8_bad7_48452060fbd0level0_row0\" class=\"row_heading level0 row0\" >0</th> \n",
       "        <td id=\"T_d8aca6ee_ee48_11e8_bad7_48452060fbd0row0_col0\" class=\"data row0 col0\" >Start Location: dst_host<br>Src IP: 192.168.20.1<br>Src Port: 80<br>Dst IP: 192.168.10.1<br>Dst Port: 49512<br>IP Protocol: TCP</td> \n",
       "        <td id=\"T_d8aca6ee_ee48_11e8_bad7_48452060fbd0row0_col1\" class=\"data row0 col1\" ><span style=\"color:#7c020e; text-weight:bold;\">DENIED_IN</span><br><strong>1</strong>. node: dst_host<br>&nbsp;&nbsp;ORIGINATED(default)<br>&nbsp;&nbsp;FORWARDED(Routes: static [Network: 0.0.0.0/0, Next Hop IP:AUTO/NONE(-1l)])<br>&nbsp;&nbsp;TRANSMITTED(eth0)<br><strong>2</strong>. node: core<br>&nbsp;&nbsp;DENIED(GigabitEthernet2/0: seg20in)</td> \n",
       "        <td id=\"T_d8aca6ee_ee48_11e8_bad7_48452060fbd0row0_col2\" class=\"data row0 col2\" >1</td> \n",
       "    </tr></tbody> \n",
       "</table> "
      ],
      "text/plain": [
       "<pandas.io.formats.style.Styler at 0x7fef21b74cf8>"
      ]
     },
     "metadata": {},
     "output_type": "display_data"
    }
   ],
   "source": [
    "# 復路\n",
    "traceroute_rt_ans = bfq.traceroute(\n",
    "                                   headers=return_flow,\n",
    "                                   startLocation=\"dst_host\",\n",
    "                                  ).answer()\n",
    "display_html(traceroute_rt_ans.frame())"
   ]
  }
 ],
 "metadata": {
  "kernelspec": {
   "display_name": "Python 3",
   "language": "python",
   "name": "python3"
  },
  "language_info": {
   "codemirror_mode": {
    "name": "ipython",
    "version": 3
   },
   "file_extension": ".py",
   "mimetype": "text/x-python",
   "name": "python",
   "nbconvert_exporter": "python",
   "pygments_lexer": "ipython3",
   "version": "3.7.1"
  }
 },
 "nbformat": 4,
 "nbformat_minor": 2
}
