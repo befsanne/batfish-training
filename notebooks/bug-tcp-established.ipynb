{
 "cells": [
  {
   "cell_type": "markdown",
   "metadata": {},
   "source": [
    "Check and run Batfish container."
   ]
  },
  {
   "cell_type": "code",
   "execution_count": 1,
   "metadata": {},
   "outputs": [
    {
     "name": "stdout",
     "output_type": "stream",
     "text": [
      "Batfish container is already running.\n"
     ]
    }
   ],
   "source": [
    "%%bash\n",
    "if (docker ps -f \"ancestor=batfish/batfish\" | grep \"0.0.0.0:9996-9997\" > /dev/null); then\n",
    "  echo \"Batfish container is already running.\"\n",
    "else\n",
    "  docker run -d -p 9997:9997 -p 9996:9996 batfish/batfish\n",
    "fi"
   ]
  },
  {
   "cell_type": "markdown",
   "metadata": {},
   "source": [
    "Run startup.py."
   ]
  },
  {
   "cell_type": "code",
   "execution_count": 17,
   "metadata": {},
   "outputs": [],
   "source": [
    "%run startup.py"
   ]
  },
  {
   "cell_type": "markdown",
   "metadata": {},
   "source": [
    "Declare flow informations."
   ]
  },
  {
   "cell_type": "code",
   "execution_count": 29,
   "metadata": {},
   "outputs": [],
   "source": [
    "src_ip = \"192.168.10.1\"\n",
    "dst_ip = \"192.168.20.1\"\n",
    "ip_protocol = \"TCP\"\n",
    "src_port =\"49512\"\n",
    "dst_port = \"80\"\n",
    "\n",
    "#tcp_flags_ack = TcpFlags(ack=True)\n",
    "match_ack_bit = MatchTcpFlags(tcp_flags_ack)\n",
    "\n",
    "outbound_flow = HeaderConstraints(srcIps=src_ip,\n",
    "                         dstIps=dst_ip,\n",
    "                         ipProtocols=ip_protocol,\n",
    "                         srcPorts=src_port,\n",
    "                         dstPorts=dst_port,\n",
    "                         flowStates=\"new\")\n",
    "return_flow = HeaderConstraints(srcIps=dst_ip,\n",
    "                         dstIps=src_ip,\n",
    "                         ipProtocols=ip_protocol,\n",
    "                         srcPorts=dst_port,\n",
    "                         dstPorts=src_port,\n",
    "                         tcpFlags=match_ack_bit\n",
    "                         )"
   ]
  },
  {
   "cell_type": "markdown",
   "metadata": {},
   "source": [
    "Create hosts."
   ]
  },
  {
   "cell_type": "code",
   "execution_count": 10,
   "metadata": {},
   "outputs": [],
   "source": [
    "import json\n",
    "\n",
    "host_file_dir = \"networks/example2/hosts/\"\n",
    "src_host_dict = {\n",
    "                 \"hostname\": \"src_host\",\n",
    "                 \"hostInterfaces\": {\n",
    "                   \"eth0\": {\n",
    "                     \"name\": \"eth0\",\n",
    "                     \"prefix\": str(src_ip + \"/24\"),\n",
    "                     }\n",
    "                   }\n",
    "                 }\n",
    "\n",
    "dst_host_dict = {\n",
    "                 \"hostname\": \"dst_host\",\n",
    "                 \"hostInterfaces\": {\n",
    "                   \"eth0\": {\n",
    "                     \"name\": \"eth0\",\n",
    "                     \"prefix\": str(dst_ip + \"/24\"),\n",
    "                     }\n",
    "                   }\n",
    "                 }\n",
    "\n",
    "f = open(\"{dir}src_host.json\".format(dir=host_file_dir), \"w\")\n",
    "f.write(json.dumps(src_host_dict))\n",
    "f.close()\n",
    "\n",
    "f = open(\"{dir}dst_host.json\".format(dir=host_file_dir), \"w\")\n",
    "f.write(json.dumps(dst_host_dict))\n",
    "f.close()"
   ]
  },
  {
   "cell_type": "markdown",
   "metadata": {},
   "source": [
    "Upload configurations."
   ]
  },
  {
   "cell_type": "code",
   "execution_count": 19,
   "metadata": {
    "scrolled": true
   },
   "outputs": [
    {
     "data": {
      "text/plain": [
       "'current'"
      ]
     },
     "execution_count": 19,
     "metadata": {},
     "output_type": "execute_result"
    }
   ],
   "source": [
    "NETWORK_NAME = \"datacenter1\"\n",
    "SNAPSHOT_NAME = \"current\"\n",
    "SNAPSHOT_PATH = \"networks/example2\"\n",
    "\n",
    "bf_set_network(NETWORK_NAME)\n",
    "bf_init_snapshot(SNAPSHOT_PATH, name=SNAPSHOT_NAME, overwrite=True)"
   ]
  },
  {
   "cell_type": "markdown",
   "metadata": {},
   "source": [
    "## 5. 通信の検証\n",
    "\n",
    "以下のセルを実行し、結果を確認する。"
   ]
  },
  {
   "cell_type": "code",
   "execution_count": 15,
   "metadata": {},
   "outputs": [
    {
     "data": {
      "text/html": [
       "<style  type=\"text/css\" >\n",
       "    #T_3ecfd6ba_de29_11e8_ab13_48452060fbd0row0_col0 {\n",
       "            text-align:  left;\n",
       "            vertical-align:  top;\n",
       "        }    #T_3ecfd6ba_de29_11e8_ab13_48452060fbd0row0_col1 {\n",
       "            text-align:  left;\n",
       "            vertical-align:  top;\n",
       "        }    #T_3ecfd6ba_de29_11e8_ab13_48452060fbd0row0_col2 {\n",
       "            text-align:  left;\n",
       "            vertical-align:  top;\n",
       "        }</style>  \n",
       "<table id=\"T_3ecfd6ba_de29_11e8_ab13_48452060fbd0\" > \n",
       "<thead>    <tr> \n",
       "        <th class=\"blank level0\" ></th> \n",
       "        <th class=\"col_heading level0 col0\" >Flow</th> \n",
       "        <th class=\"col_heading level0 col1\" >Traces</th> \n",
       "        <th class=\"col_heading level0 col2\" >TraceCount</th> \n",
       "    </tr></thead> \n",
       "<tbody>    <tr> \n",
       "        <th id=\"T_3ecfd6ba_de29_11e8_ab13_48452060fbd0level0_row0\" class=\"row_heading level0 row0\" >0</th> \n",
       "        <td id=\"T_3ecfd6ba_de29_11e8_ab13_48452060fbd0row0_col0\" class=\"data row0 col0\" >192.168.10.1:49512 &rarr; 192.168.20.1:80<br>start=src_host</td> \n",
       "        <td id=\"T_3ecfd6ba_de29_11e8_ab13_48452060fbd0row0_col1\" class=\"data row0 col1\" ><span style=\"color:#019612; text-weight:bold;\">ACCEPTED</span><br><strong>1</strong>. node: src_host<br>steps: FORWARDED(Routes: static [Network: 0.0.0.0/0, Next Hop IP:AUTO/NONE(-1l)]) &rarr; TRANSMITTED(eth0)<br><strong>2</strong>. node: core<br>steps: RECEIVED(GigabitEthernet1/0: seg10in) &rarr; FORWARDED(Routes: connected [Network: 192.168.20.0/24, Next Hop IP:AUTO/NONE(-1l)]) &rarr; TRANSMITTED(GigabitEthernet2/0)<br><strong>3</strong>. node: dst_host<br>steps: RECEIVED(eth0) &rarr; ACCEPTED(InboundStep)</td> \n",
       "        <td id=\"T_3ecfd6ba_de29_11e8_ab13_48452060fbd0row0_col2\" class=\"data row0 col2\" >1</td> \n",
       "    </tr></tbody> \n",
       "</table> "
      ],
      "text/plain": [
       "<pandas.io.formats.style.Styler at 0x7f6f65fb7e80>"
      ]
     },
     "metadata": {},
     "output_type": "display_data"
    }
   ],
   "source": [
    "# outbound - expected result\n",
    "traceroute_ob_ans = bfq.traceroute(\n",
    "                                headers=outbound_flow,\n",
    "                                startLocation=\"src_host\",\n",
    "                                #startLocation=\"enter(core[GigabitEthernet1/0])\"\n",
    "                               ).answer()\n",
    "display_html(traceroute_ob_ans.frame())"
   ]
  },
  {
   "cell_type": "code",
   "execution_count": 30,
   "metadata": {},
   "outputs": [
    {
     "ename": "BatfishException",
     "evalue": "Coordinator returned failure: Invalid question datacenter1/traceroute_8d4e77ed-0ff8-4605-a939-ceeee7e49f45: Could not parse JSON question: Cannot deserialize instance of `java.util.HashSet` out of START_OBJECT token\n at [Source: (String)\"{\"class\":\"org.batfish.question.traceroute.TracerouteQuestion\",\"differential\":false,\"headers\":{\"applications\":null,\"dscps\":null,\"dstIps\":\"192.168.10.1\",\"dstPorts\":\"49512\",\"ecns\":null,\"flowStates\":null,\"fragmentOffsets\":null,\"icmpCodes\":null,\"icmpTypes\":null,\"ipProtocols\":[\"TCP\"],\"packetLengths\":null,\"srcIps\":\"192.168.20.1\",\"srcPorts\":\"80\",\"tcpFlags\":{\"tcpFlags\":{\"ack\":true,\"cwr\":false,\"ece\":false,\"fin\":false,\"psh\":false,\"rst\":false,\"syn\":false,\"urg\":false},\"useAck\":true,\"useCwr\":true,\"useEce\":tru\"[truncated 1689 chars]; line: 1, column: 352] (through reference chain: org.batfish.question.traceroute.TracerouteQuestion[\"headers\"]->org.batfish.datamodel.PacketHeaderConstraints[\"tcpFlags\"])",
     "output_type": "error",
     "traceback": [
      "\u001b[0;31m---------------------------------------------------------------------------\u001b[0m",
      "\u001b[0;31mBatfishException\u001b[0m                          Traceback (most recent call last)",
      "\u001b[0;32m<ipython-input-30-8cb5f65184fd>\u001b[0m in \u001b[0;36m<module>\u001b[0;34m\u001b[0m\n\u001b[1;32m      2\u001b[0m traceroute_rt_ans = bfq.traceroute(\n\u001b[1;32m      3\u001b[0m                                    \u001b[0mheaders\u001b[0m\u001b[0;34m=\u001b[0m\u001b[0mreturn_flow\u001b[0m\u001b[0;34m,\u001b[0m\u001b[0;34m\u001b[0m\u001b[0m\n\u001b[0;32m----> 4\u001b[0;31m                                    \u001b[0mstartLocation\u001b[0m\u001b[0;34m=\u001b[0m\u001b[0;34m\"dst_host\"\u001b[0m\u001b[0;34m,\u001b[0m\u001b[0;34m\u001b[0m\u001b[0m\n\u001b[0m\u001b[1;32m      5\u001b[0m                                   ).answer()\n\u001b[1;32m      6\u001b[0m \u001b[0;31m#display_html(traceroute_rt_ans.frame())\u001b[0m\u001b[0;34m\u001b[0m\u001b[0;34m\u001b[0m\u001b[0m\n",
      "\u001b[0;32m~/.pyenv/versions/3.6.5/lib/python3.6/site-packages/pybatfish/question/question.py\u001b[0m in \u001b[0;36manswer\u001b[0;34m(self, snapshot, reference_snapshot, include_one_table_keys, background)\u001b[0m\n\u001b[1;32m    161\u001b[0m                               \u001b[0mbackground\u001b[0m\u001b[0;34m=\u001b[0m\u001b[0mbackground\u001b[0m\u001b[0;34m,\u001b[0m\u001b[0;34m\u001b[0m\u001b[0m\n\u001b[1;32m    162\u001b[0m                               \u001b[0msnapshot\u001b[0m\u001b[0;34m=\u001b[0m\u001b[0msnapshot\u001b[0m\u001b[0;34m,\u001b[0m\u001b[0;34m\u001b[0m\u001b[0m\n\u001b[0;32m--> 163\u001b[0;31m                               reference_snapshot=reference_snapshot)\n\u001b[0m\u001b[1;32m    164\u001b[0m \u001b[0;34m\u001b[0m\u001b[0m\n\u001b[1;32m    165\u001b[0m     \u001b[0;32mdef\u001b[0m \u001b[0mdict\u001b[0m\u001b[0;34m(\u001b[0m\u001b[0mself\u001b[0m\u001b[0;34m)\u001b[0m\u001b[0;34m:\u001b[0m\u001b[0;34m\u001b[0m\u001b[0m\n",
      "\u001b[0;32m~/.pyenv/versions/3.6.5/lib/python3.6/site-packages/pybatfish/client/commands.py\u001b[0m in \u001b[0;36m_bf_answer_obj\u001b[0;34m(question_str, parameters_str, question_name, background, snapshot, reference_snapshot)\u001b[0m\n\u001b[1;32m    175\u001b[0m                                                     parameters_str)\n\u001b[1;32m    176\u001b[0m     resthelper.get_json_response(bf_session,\n\u001b[0;32m--> 177\u001b[0;31m                                  CoordConsts.SVC_RSC_UPLOAD_QUESTION, json_data)\n\u001b[0m\u001b[1;32m    178\u001b[0m \u001b[0;34m\u001b[0m\u001b[0m\n\u001b[1;32m    179\u001b[0m     \u001b[0;31m# Answer the question\u001b[0m\u001b[0;34m\u001b[0m\u001b[0;34m\u001b[0m\u001b[0m\n",
      "\u001b[0;32m~/.pyenv/versions/3.6.5/lib/python3.6/site-packages/pybatfish/client/resthelper.py\u001b[0m in \u001b[0;36mget_json_response\u001b[0;34m(session, resource, jsonData, useHttpGet)\u001b[0m\n\u001b[1;32m    102\u001b[0m     \u001b[0;32mif\u001b[0m \u001b[0mjson_response\u001b[0m\u001b[0;34m[\u001b[0m\u001b[0;36m0\u001b[0m\u001b[0;34m]\u001b[0m \u001b[0;34m!=\u001b[0m \u001b[0mCoordConsts\u001b[0m\u001b[0;34m.\u001b[0m\u001b[0mSVC_KEY_SUCCESS\u001b[0m\u001b[0;34m:\u001b[0m\u001b[0;34m\u001b[0m\u001b[0m\n\u001b[1;32m    103\u001b[0m         raise BatfishException(\n\u001b[0;32m--> 104\u001b[0;31m             \"Coordinator returned failure: {}\".format(json_response[1]))\n\u001b[0m\u001b[1;32m    105\u001b[0m \u001b[0;34m\u001b[0m\u001b[0m\n\u001b[1;32m    106\u001b[0m     \u001b[0;32mreturn\u001b[0m \u001b[0mdict\u001b[0m\u001b[0;34m(\u001b[0m\u001b[0mjson_response\u001b[0m\u001b[0;34m[\u001b[0m\u001b[0;36m1\u001b[0m\u001b[0;34m]\u001b[0m\u001b[0;34m)\u001b[0m\u001b[0;34m\u001b[0m\u001b[0m\n",
      "\u001b[0;31mBatfishException\u001b[0m: Coordinator returned failure: Invalid question datacenter1/traceroute_8d4e77ed-0ff8-4605-a939-ceeee7e49f45: Could not parse JSON question: Cannot deserialize instance of `java.util.HashSet` out of START_OBJECT token\n at [Source: (String)\"{\"class\":\"org.batfish.question.traceroute.TracerouteQuestion\",\"differential\":false,\"headers\":{\"applications\":null,\"dscps\":null,\"dstIps\":\"192.168.10.1\",\"dstPorts\":\"49512\",\"ecns\":null,\"flowStates\":null,\"fragmentOffsets\":null,\"icmpCodes\":null,\"icmpTypes\":null,\"ipProtocols\":[\"TCP\"],\"packetLengths\":null,\"srcIps\":\"192.168.20.1\",\"srcPorts\":\"80\",\"tcpFlags\":{\"tcpFlags\":{\"ack\":true,\"cwr\":false,\"ece\":false,\"fin\":false,\"psh\":false,\"rst\":false,\"syn\":false,\"urg\":false},\"useAck\":true,\"useCwr\":true,\"useEce\":tru\"[truncated 1689 chars]; line: 1, column: 352] (through reference chain: org.batfish.question.traceroute.TracerouteQuestion[\"headers\"]->org.batfish.datamodel.PacketHeaderConstraints[\"tcpFlags\"])"
     ]
    }
   ],
   "source": [
    "# return - unexpected result\n",
    "traceroute_rt_ans = bfq.traceroute(\n",
    "                                   headers=return_flow,\n",
    "                                   startLocation=\"dst_host\",\n",
    "                                  ).answer()\n",
    "#display_html(traceroute_rt_ans.frame())\n",
    "#print(traceroute_rt_ans)"
   ]
  },
  {
   "cell_type": "code",
   "execution_count": null,
   "metadata": {},
   "outputs": [],
   "source": []
  }
 ],
 "metadata": {
  "kernelspec": {
   "display_name": "Python 3",
   "language": "python",
   "name": "python3"
  },
  "language_info": {
   "codemirror_mode": {
    "name": "ipython",
    "version": 3
   },
   "file_extension": ".py",
   "mimetype": "text/x-python",
   "name": "python",
   "nbconvert_exporter": "python",
   "pygments_lexer": "ipython3",
   "version": "3.6.5"
  }
 },
 "nbformat": 4,
 "nbformat_minor": 2
}
