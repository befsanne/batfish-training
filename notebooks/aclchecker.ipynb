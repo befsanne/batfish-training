{
 "cells": [
  {
   "cell_type": "markdown",
   "metadata": {},
   "source": [
    "# ACL Checker"
   ]
  },
  {
   "cell_type": "markdown",
   "metadata": {},
   "source": [
    "## 1. Batfishコンテナの起動\n",
    "\n",
    "Batfishコンテナが起動しているか確認し、起動していない場合は起動する。"
   ]
  },
  {
   "cell_type": "code",
   "execution_count": null,
   "metadata": {},
   "outputs": [],
   "source": [
    "%%bash\n",
    "if (docker ps -f \"ancestor=batfish/batfish\" | grep \"0.0.0.0:9996-9997\" > /dev/null); then\n",
    "  echo \"Batfish container is already running.\"\n",
    "else\n",
    "  docker run -d -p 9997:9997 -p 9996:9996 batfish/batfish\n",
    "fi"
   ]
  },
  {
   "cell_type": "markdown",
   "metadata": {},
   "source": [
    "## 2. startup.pyの実行\n",
    "\n",
    "startup.pyを実行し、ライブラリのインポートなどを行う。"
   ]
  },
  {
   "cell_type": "code",
   "execution_count": null,
   "metadata": {},
   "outputs": [],
   "source": [
    "%run startup.py"
   ]
  },
  {
   "cell_type": "markdown",
   "metadata": {},
   "source": [
    "## 3. 通信の設定\n",
    "\n",
    "以下のセル内の各変数に検証したい通信の情報を格納し、実行する。\n",
    "HeaderConstraintsのその他の引数は以下を参照。\n",
    "[https://github.com/batfish/pybatfish/blob/master/pybatfish/datamodel/flow.py#L647-L669](htps://github.com/batfish/pybatfish/blob/master/pybatfish/datamodel/flow.py#L647-L669)"
   ]
  },
  {
   "cell_type": "code",
   "execution_count": null,
   "metadata": {},
   "outputs": [],
   "source": [
    "# 送信元IPアドレス\n",
    "src_ip = \"192.168.10.1\"\n",
    "# 宛先IPアドレス\n",
    "dst_ip = \"192.168.20.1\"\n",
    "# アプリケーション\n",
    "app = \"http\"\n",
    "flow = HeaderConstraints(srcIps=src_ip,\n",
    "                         dstIps=dst_ip,\n",
    "                         applications=[app])"
   ]
  },
  {
   "cell_type": "markdown",
   "metadata": {},
   "source": [
    "## 4 ホストの設定\n",
    "\n",
    "以下のセル内のJSONに送信元および宛先のホスト情報を指定し、実行する。"
   ]
  },
  {
   "cell_type": "code",
   "execution_count": null,
   "metadata": {},
   "outputs": [],
   "source": [
    "import json\n",
    "\n",
    "host_file_dir = \"networks/example2/hosts/\"\n",
    "src_host_dict = {\n",
    "                 \"hostname\": \"src_host\",\n",
    "                 \"hostInterfaces\": {\n",
    "                   \"eth0\": {\n",
    "                     \"name\": \"eth0\",\n",
    "                     \"prefix\": str(src_ip + \"/24\"),\n",
    "                     }\n",
    "                   }\n",
    "                 }\n",
    "\n",
    "dst_host_dict = {\n",
    "                 \"hostname\": \"dst_host\",\n",
    "                 \"hostInterfaces\": {\n",
    "                   \"eth0\": {\n",
    "                     \"name\": \"eth0\",\n",
    "                     \"prefix\": str(dst_ip + \"/24\"),\n",
    "                     }\n",
    "                   }\n",
    "                 }\n",
    "\n",
    "f = open(\"{dir}src_host.json\".format(dir=host_file_dir), \"w\")\n",
    "f.write(json.dumps(src_host_dict))\n",
    "f.close()\n",
    "\n",
    "f = open(\"{dir}dst_host.json\".format(dir=host_file_dir), \"w\")\n",
    "f.write(json.dumps(dst_host_dict))\n",
    "f.close()"
   ]
  },
  {
   "cell_type": "markdown",
   "metadata": {},
   "source": [
    "## 3. 設定ファイルのアップロード\n",
    "\n",
    "設定ファイルをBatfishコンテナへアップロードする(スナップショット名の後にいくつかのログが表示される)。"
   ]
  },
  {
   "cell_type": "code",
   "execution_count": null,
   "metadata": {
    "scrolled": true
   },
   "outputs": [],
   "source": [
    "# ネットワークの名前を指定する\n",
    "NETWORK_NAME = \"datacenter1\"\n",
    "# ネットワークの状態の名前を指定する(current, candidateなど)\n",
    "SNAPSHOT_NAME = \"current\"\n",
    "# 設定ファイルの格納先を指定する\n",
    "SNAPSHOT_PATH = \"networks/example2\"\n",
    "\n",
    "bf_set_network(NETWORK_NAME)\n",
    "bf_init_snapshot(SNAPSHOT_PATH, name=SNAPSHOT_NAME, overwrite=True)"
   ]
  },
  {
   "cell_type": "markdown",
   "metadata": {},
   "source": [
    "## 5. 通信の検証\n",
    "\n",
    "以下のセルを実行し、結果を確認する。"
   ]
  },
  {
   "cell_type": "code",
   "execution_count": null,
   "metadata": {},
   "outputs": [],
   "source": [
    "traceroute_ans = bfq.traceroute(\n",
    "                                headers=flow,\n",
    "                                startLocation=\"src_host\"\n",
    "                                #startLocation=\"enter(core[GigabitEthernet1/0])\"\n",
    "                               ).answer()\n",
    "display_html(traceroute_ans.frame())"
   ]
  }
 ],
 "metadata": {
  "kernelspec": {
   "display_name": "Python 3",
   "language": "python",
   "name": "python3"
  },
  "language_info": {
   "codemirror_mode": {
    "name": "ipython",
    "version": 3
   },
   "file_extension": ".py",
   "mimetype": "text/x-python",
   "name": "python",
   "nbconvert_exporter": "python",
   "pygments_lexer": "ipython3",
   "version": "3.6.5"
  }
 },
 "nbformat": 4,
 "nbformat_minor": 2
}
